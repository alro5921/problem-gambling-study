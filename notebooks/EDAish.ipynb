{
 "cells": [
  {
   "cell_type": "code",
   "execution_count": 3,
   "metadata": {},
   "outputs": [],
   "source": [
    "import numpy as np\n",
    "import pandas as pd\n",
    "import matplotlib.pyplot as plt\n",
    "import pipeline\n",
    "import random\n",
    "import itertools"
   ]
  },
  {
   "cell_type": "code",
   "execution_count": 4,
   "metadata": {},
   "outputs": [],
   "source": [
    "demographic_df = pd.read_sas('../data/raw_1.sas7bdat')\n",
    "demo_df = pipeline.clean_demographic(demographic_df)"
   ]
  },
  {
   "cell_type": "code",
   "execution_count": 109,
   "metadata": {},
   "outputs": [
    {
     "data": {
      "text/plain": [
       "USERID         4.413368e+06\n",
       "RG_case        5.002419e-01\n",
       "YearofBirth    1.976973e+03\n",
       "dtype: float64"
      ]
     },
     "execution_count": 109,
     "metadata": {},
     "output_type": "execute_result"
    }
   ],
   "source": [
    "demographic_df.mean()"
   ]
  },
  {
   "cell_type": "code",
   "execution_count": 5,
   "metadata": {},
   "outputs": [],
   "source": [
    "gambling_series_df = pd.read_sas('../data/raw_2.sas7bdat')\n",
    "gam_df = pipeline.clean_gambling(gambling_series_df)"
   ]
  },
  {
   "cell_type": "code",
   "execution_count": 6,
   "metadata": {},
   "outputs": [],
   "source": [
    "rg_intervention_df = pd.read_sas('../data/raw_3.sas7bdat')\n",
    "rg_info = pipeline.clean_rg_info(rg_intervention_df)"
   ]
  },
  {
   "cell_type": "code",
   "execution_count": 7,
   "metadata": {},
   "outputs": [
    {
     "data": {
      "text/html": [
       "<div>\n",
       "<style scoped>\n",
       "    .dataframe tbody tr th:only-of-type {\n",
       "        vertical-align: middle;\n",
       "    }\n",
       "\n",
       "    .dataframe tbody tr th {\n",
       "        vertical-align: top;\n",
       "    }\n",
       "\n",
       "    .dataframe thead th {\n",
       "        text-align: right;\n",
       "    }\n",
       "</style>\n",
       "<table border=\"1\" class=\"dataframe\">\n",
       "  <thead>\n",
       "    <tr style=\"text-align: right;\">\n",
       "      <th></th>\n",
       "      <th>user_id</th>\n",
       "      <th>product_type</th>\n",
       "      <th>turnover</th>\n",
       "      <th>hold</th>\n",
       "      <th>num_bets</th>\n",
       "    </tr>\n",
       "    <tr>\n",
       "      <th>weekend</th>\n",
       "      <th></th>\n",
       "      <th></th>\n",
       "      <th></th>\n",
       "      <th></th>\n",
       "      <th></th>\n",
       "    </tr>\n",
       "  </thead>\n",
       "  <tbody>\n",
       "    <tr>\n",
       "      <th>False</th>\n",
       "      <td>3.230706e+06</td>\n",
       "      <td>3.698906</td>\n",
       "      <td>347.728142</td>\n",
       "      <td>16.763593</td>\n",
       "      <td>46.320172</td>\n",
       "    </tr>\n",
       "    <tr>\n",
       "      <th>True</th>\n",
       "      <td>3.193773e+06</td>\n",
       "      <td>3.384506</td>\n",
       "      <td>338.787361</td>\n",
       "      <td>15.741385</td>\n",
       "      <td>43.302686</td>\n",
       "    </tr>\n",
       "  </tbody>\n",
       "</table>\n",
       "</div>"
      ],
      "text/plain": [
       "              user_id  product_type    turnover       hold   num_bets\n",
       "weekend                                                              \n",
       "False    3.230706e+06      3.698906  347.728142  16.763593  46.320172\n",
       "True     3.193773e+06      3.384506  338.787361  15.741385  43.302686"
      ]
     },
     "execution_count": 7,
     "metadata": {},
     "output_type": "execute_result"
    }
   ],
   "source": [
    "gam_df.head()\n",
    "gam_df['weekend'] = gam_df['date'].dt.dayofweek >= 4\n",
    "gb_day_in_week = gam_df.groupby('weekend')\n",
    "gb_day_in_week.mean()"
   ]
  },
  {
   "cell_type": "code",
   "execution_count": 8,
   "metadata": {},
   "outputs": [
    {
     "data": {
      "text/html": [
       "<div>\n",
       "<style scoped>\n",
       "    .dataframe tbody tr th:only-of-type {\n",
       "        vertical-align: middle;\n",
       "    }\n",
       "\n",
       "    .dataframe tbody tr th {\n",
       "        vertical-align: top;\n",
       "    }\n",
       "\n",
       "    .dataframe thead th {\n",
       "        text-align: right;\n",
       "    }\n",
       "</style>\n",
       "<table border=\"1\" class=\"dataframe\">\n",
       "  <thead>\n",
       "    <tr style=\"text-align: right;\">\n",
       "      <th></th>\n",
       "      <th>user_id</th>\n",
       "      <th>product_type</th>\n",
       "      <th>turnover</th>\n",
       "      <th>hold</th>\n",
       "      <th>num_bets</th>\n",
       "      <th>weekend</th>\n",
       "      <th>hold_cum</th>\n",
       "    </tr>\n",
       "  </thead>\n",
       "  <tbody>\n",
       "    <tr>\n",
       "      <th>2000-01-01</th>\n",
       "      <td>5799772</td>\n",
       "      <td>10</td>\n",
       "      <td>0.0</td>\n",
       "      <td>0.0</td>\n",
       "      <td>0</td>\n",
       "      <td>0</td>\n",
       "      <td>0.0</td>\n",
       "    </tr>\n",
       "    <tr>\n",
       "      <th>2000-01-02</th>\n",
       "      <td>5799772</td>\n",
       "      <td>10</td>\n",
       "      <td>0.0</td>\n",
       "      <td>0.0</td>\n",
       "      <td>0</td>\n",
       "      <td>0</td>\n",
       "      <td>0.0</td>\n",
       "    </tr>\n",
       "    <tr>\n",
       "      <th>2000-01-03</th>\n",
       "      <td>5799772</td>\n",
       "      <td>10</td>\n",
       "      <td>0.0</td>\n",
       "      <td>0.0</td>\n",
       "      <td>0</td>\n",
       "      <td>0</td>\n",
       "      <td>0.0</td>\n",
       "    </tr>\n",
       "    <tr>\n",
       "      <th>2000-01-04</th>\n",
       "      <td>5799772</td>\n",
       "      <td>10</td>\n",
       "      <td>0.0</td>\n",
       "      <td>0.0</td>\n",
       "      <td>0</td>\n",
       "      <td>0</td>\n",
       "      <td>0.0</td>\n",
       "    </tr>\n",
       "    <tr>\n",
       "      <th>2000-01-05</th>\n",
       "      <td>5799772</td>\n",
       "      <td>10</td>\n",
       "      <td>0.0</td>\n",
       "      <td>0.0</td>\n",
       "      <td>0</td>\n",
       "      <td>0</td>\n",
       "      <td>0.0</td>\n",
       "    </tr>\n",
       "    <tr>\n",
       "      <th>...</th>\n",
       "      <td>...</td>\n",
       "      <td>...</td>\n",
       "      <td>...</td>\n",
       "      <td>...</td>\n",
       "      <td>...</td>\n",
       "      <td>...</td>\n",
       "      <td>...</td>\n",
       "    </tr>\n",
       "    <tr>\n",
       "      <th>2010-11-26</th>\n",
       "      <td>5799772</td>\n",
       "      <td>10</td>\n",
       "      <td>0.0</td>\n",
       "      <td>0.0</td>\n",
       "      <td>0</td>\n",
       "      <td>0</td>\n",
       "      <td>0.0</td>\n",
       "    </tr>\n",
       "    <tr>\n",
       "      <th>2010-11-27</th>\n",
       "      <td>5799772</td>\n",
       "      <td>10</td>\n",
       "      <td>0.0</td>\n",
       "      <td>0.0</td>\n",
       "      <td>0</td>\n",
       "      <td>0</td>\n",
       "      <td>0.0</td>\n",
       "    </tr>\n",
       "    <tr>\n",
       "      <th>2010-11-28</th>\n",
       "      <td>5799772</td>\n",
       "      <td>10</td>\n",
       "      <td>0.0</td>\n",
       "      <td>0.0</td>\n",
       "      <td>0</td>\n",
       "      <td>0</td>\n",
       "      <td>0.0</td>\n",
       "    </tr>\n",
       "    <tr>\n",
       "      <th>2010-11-29</th>\n",
       "      <td>5799772</td>\n",
       "      <td>10</td>\n",
       "      <td>0.0</td>\n",
       "      <td>0.0</td>\n",
       "      <td>0</td>\n",
       "      <td>0</td>\n",
       "      <td>0.0</td>\n",
       "    </tr>\n",
       "    <tr>\n",
       "      <th>2010-11-30</th>\n",
       "      <td>5799772</td>\n",
       "      <td>10</td>\n",
       "      <td>0.0</td>\n",
       "      <td>0.0</td>\n",
       "      <td>0</td>\n",
       "      <td>0</td>\n",
       "      <td>0.0</td>\n",
       "    </tr>\n",
       "  </tbody>\n",
       "</table>\n",
       "<p>3987 rows × 7 columns</p>\n",
       "</div>"
      ],
      "text/plain": [
       "            user_id  product_type  turnover  hold  num_bets weekend  hold_cum\n",
       "2000-01-01  5799772            10       0.0   0.0         0       0       0.0\n",
       "2000-01-02  5799772            10       0.0   0.0         0       0       0.0\n",
       "2000-01-03  5799772            10       0.0   0.0         0       0       0.0\n",
       "2000-01-04  5799772            10       0.0   0.0         0       0       0.0\n",
       "2000-01-05  5799772            10       0.0   0.0         0       0       0.0\n",
       "...             ...           ...       ...   ...       ...     ...       ...\n",
       "2010-11-26  5799772            10       0.0   0.0         0       0       0.0\n",
       "2010-11-27  5799772            10       0.0   0.0         0       0       0.0\n",
       "2010-11-28  5799772            10       0.0   0.0         0       0       0.0\n",
       "2010-11-29  5799772            10       0.0   0.0         0       0       0.0\n",
       "2010-11-30  5799772            10       0.0   0.0         0       0       0.0\n",
       "\n",
       "[3987 rows x 7 columns]"
      ]
     },
     "execution_count": 8,
     "metadata": {},
     "output_type": "execute_result"
    }
   ],
   "source": [
    "user_id = 5799772\n",
    "pipeline.make_ts(gam_df, user_id, 10)"
   ]
  },
  {
   "cell_type": "code",
   "execution_count": 9,
   "metadata": {},
   "outputs": [],
   "source": [
    "def add_weighted_bets(gam_df, w_means = None):\n",
    "    if not w_means:\n",
    "        w_means = gam_df.groupby('product_type')['num_bets'].mean()\n",
    "        w_means /= w_means[1]\n",
    "    gam_df['weighted_bets'] = 0\n",
    "    for product_type in gam_df['product_type'].unique():\n",
    "        mask = gam_df['product_type'] == product_type\n",
    "        gam_df.loc[mask,'weighted_bets'] = gam_df[mask]['num_bets'] / w_means[product_type]\n",
    "    return gam_df"
   ]
  },
  {
   "cell_type": "code",
   "execution_count": 10,
   "metadata": {},
   "outputs": [],
   "source": [
    "gam_test = add_weighted_bets(gam_df)"
   ]
  },
  {
   "cell_type": "code",
   "execution_count": 11,
   "metadata": {},
   "outputs": [],
   "source": [
    "has_hold_data = [1,2,4,8,17]\n",
    "def accum_by_date(gam_data, user_id, product_types = has_hold_data):\n",
    "    '''Accumulates the turnover+hold across all product_types'''\n",
    "    mask = (gam_data['user_id'] == user_id) & (gam_data['product_type'].isin(product_types))\n",
    "    series = gam_data[mask].groupby('date').sum()\n",
    "    series = series.drop([\"product_type\",\"user_id\"], axis = 1)\n",
    "    reg_date = demo_df.loc[user_id].registration_date\n",
    "    #last_gamble = series['date'].max()\n",
    "    idx = pd.date_range(reg_date, '2010-11-30')\n",
    "    series = series.reindex(idx, fill_value=0)\n",
    "    #Move this out!\n",
    "    series['weekend'] = pd.DatetimeIndex(series.index).dayofweek >= 4\n",
    "    series['hold_cum'] = series['hold'].cumsum()\n",
    "    return series.copy()"
   ]
  },
  {
   "cell_type": "code",
   "execution_count": 12,
   "metadata": {},
   "outputs": [],
   "source": [
    "all_prods = list(range(1,30))\n",
    "ts_acc = accum_by_date(gam_test, 5799772, all_prods)"
   ]
  },
  {
   "cell_type": "code",
   "execution_count": 13,
   "metadata": {},
   "outputs": [
    {
     "data": {
      "text/html": [
       "<div>\n",
       "<style scoped>\n",
       "    .dataframe tbody tr th:only-of-type {\n",
       "        vertical-align: middle;\n",
       "    }\n",
       "\n",
       "    .dataframe tbody tr th {\n",
       "        vertical-align: top;\n",
       "    }\n",
       "\n",
       "    .dataframe thead th {\n",
       "        text-align: right;\n",
       "    }\n",
       "</style>\n",
       "<table border=\"1\" class=\"dataframe\">\n",
       "  <thead>\n",
       "    <tr style=\"text-align: right;\">\n",
       "      <th></th>\n",
       "      <th>turnover</th>\n",
       "      <th>hold</th>\n",
       "      <th>num_bets</th>\n",
       "      <th>weighted_bets</th>\n",
       "      <th>hold_cum</th>\n",
       "    </tr>\n",
       "    <tr>\n",
       "      <th>weekend</th>\n",
       "      <th></th>\n",
       "      <th></th>\n",
       "      <th></th>\n",
       "      <th></th>\n",
       "      <th></th>\n",
       "    </tr>\n",
       "  </thead>\n",
       "  <tbody>\n",
       "    <tr>\n",
       "      <th>False</th>\n",
       "      <td>599</td>\n",
       "      <td>599</td>\n",
       "      <td>599</td>\n",
       "      <td>599</td>\n",
       "      <td>599</td>\n",
       "    </tr>\n",
       "    <tr>\n",
       "      <th>True</th>\n",
       "      <td>450</td>\n",
       "      <td>450</td>\n",
       "      <td>450</td>\n",
       "      <td>450</td>\n",
       "      <td>450</td>\n",
       "    </tr>\n",
       "  </tbody>\n",
       "</table>\n",
       "</div>"
      ],
      "text/plain": [
       "         turnover  hold  num_bets  weighted_bets  hold_cum\n",
       "weekend                                                   \n",
       "False         599   599       599            599       599\n",
       "True          450   450       450            450       450"
      ]
     },
     "execution_count": 13,
     "metadata": {},
     "output_type": "execute_result"
    }
   ],
   "source": [
    "ts_acc['weekend'] = pd.DatetimeIndex(ts_acc.index).dayofweek >= 4\n",
    "ts_acc\n",
    "ts_acc.groupby('weekend').count()"
   ]
  },
  {
   "cell_type": "code",
   "execution_count": 14,
   "metadata": {},
   "outputs": [
    {
     "data": {
      "text/plain": [
       "<matplotlib.axes._subplots.AxesSubplot at 0x7f08170fcad0>"
      ]
     },
     "execution_count": 14,
     "metadata": {},
     "output_type": "execute_result"
    },
    {
     "data": {
      "image/png": "[encoded data removed]",
      "text/plain": [
       "<Figure size 432x288 with 1 Axes>"
      ]
     },
     "metadata": {
      "needs_background": "light"
     },
     "output_type": "display_data"
    }
   ],
   "source": [
    "ts_acc['weighted_bets']['2008-09-01':'2009-02-01'].plot()"
   ]
  },
  {
   "cell_type": "code",
   "execution_count": 15,
   "metadata": {},
   "outputs": [],
   "source": [
    "rg_ids = list(demo_df[demo_df['rg'] == 1].index)\n",
    "no_rg_ids = list(demo_df[demo_df['rg'] == 0].index)"
   ]
  },
  {
   "cell_type": "code",
   "execution_count": 114,
   "metadata": {},
   "outputs": [
    {
     "name": "stdout",
     "output_type": "stream",
     "text": [
      "1\n"
     ]
    },
    {
     "data": {
      "image/png": "[encoded data removed]",
      "text/plain": [
       "<Figure size 432x288 with 1 Axes>"
      ]
     },
     "metadata": {
      "needs_background": "light"
     },
     "output_type": "display_data"
    },
    {
     "name": "stdout",
     "output_type": "stream",
     "text": [
      "1\n"
     ]
    },
    {
     "data": {
      "image/png": "[encoded data removed]",
      "text/plain": [
       "<Figure size 432x288 with 1 Axes>"
      ]
     },
     "metadata": {
      "needs_background": "light"
     },
     "output_type": "display_data"
    },
    {
     "name": "stdout",
     "output_type": "stream",
     "text": [
      "1\n"
     ]
    },
    {
     "data": {
      "image/png": "[encoded data removed]",
      "text/plain": [
       "<Figure size 432x288 with 1 Axes>"
      ]
     },
     "metadata": {
      "needs_background": "light"
     },
     "output_type": "display_data"
    },
    {
     "name": "stdout",
     "output_type": "stream",
     "text": [
      "2\n"
     ]
    },
    {
     "data": {
      "image/png": "[encoded data removed]",
      "text/plain": [
       "<Figure size 432x288 with 1 Axes>"
      ]
     },
     "metadata": {
      "needs_background": "light"
     },
     "output_type": "display_data"
    },
    {
     "name": "stdout",
     "output_type": "stream",
     "text": [
      "1\n"
     ]
    },
    {
     "data": {
      "image/png": "[encoded data removed]",
      "text/plain": [
       "<Figure size 432x288 with 1 Axes>"
      ]
     },
     "metadata": {
      "needs_background": "light"
     },
     "output_type": "display_data"
    },
    {
     "name": "stdout",
     "output_type": "stream",
     "text": [
      "1\n"
     ]
    },
    {
     "data": {
      "image/png": "[encoded data removed]",
      "text/plain": [
       "<Figure size 432x288 with 1 Axes>"
      ]
     },
     "metadata": {
      "needs_background": "light"
     },
     "output_type": "display_data"
    },
    {
     "name": "stdout",
     "output_type": "stream",
     "text": [
      "1\n"
     ]
    },
    {
     "data": {
      "image/png": "[encoded data removed]",
      "text/plain": [
       "<Figure size 432x288 with 1 Axes>"
      ]
     },
     "metadata": {
      "needs_background": "light"
     },
     "output_type": "display_data"
    },
    {
     "name": "stdout",
     "output_type": "stream",
     "text": [
      "1\n"
     ]
    },
    {
     "data": {
      "image/png": "[encoded data removed]",
      "text/plain": [
       "<Figure size 432x288 with 1 Axes>"
      ]
     },
     "metadata": {
      "needs_background": "light"
     },
     "output_type": "display_data"
    },
    {
     "name": "stdout",
     "output_type": "stream",
     "text": [
      "1\n"
     ]
    },
    {
     "data": {
      "image/png": "[encoded data removed]",
      "text/plain": [
       "<Figure size 432x288 with 1 Axes>"
      ]
     },
     "metadata": {
      "needs_background": "light"
     },
     "output_type": "display_data"
    },
    {
     "name": "stdout",
     "output_type": "stream",
     "text": [
      "2\n"
     ]
    },
    {
     "data": {
      "image/png": "[encoded data removed]",
      "text/plain": [
       "<Figure size 432x288 with 1 Axes>"
      ]
     },
     "metadata": {
      "needs_background": "light"
     },
     "output_type": "display_data"
    }
   ],
   "source": [
    "def plot_ts(ts, user_id, plt_column = 'hold_cum', rg_info = None):\n",
    "    ts[plt_column].plot(label = plt_column)\n",
    "    #ts['num_bets'].plot(label = \"Cumulative Loss\")\n",
    "    if rg_info is not None and (user_id in rg_info.index):\n",
    "        first_rg = rg_info.loc[user_id, 'first_date']\n",
    "        rg_desc = rg_info.loc[user_id, 'ev_desc']\n",
    "        inter_desc = rg_info.loc[user_id, 'inter_desc']\n",
    "        print(rg_info.loc[user_id, 'events'])\n",
    "        plt.axvline(first_rg, linestyle = \"--\", label = f'RG: {rg_desc}\\nInt:{inter_desc}', color = 'black')\n",
    "cr_mask = rg_info['event_type_first'] == 2\n",
    "acc_cr_ids = list(rg_info[cr_mask].index)\n",
    "#random.seed(123)\n",
    "for _ in range(10):\n",
    "    user_id = random.choice(rg_ids)\n",
    "    all_prods = list(range(1,30))\n",
    "    ts = accum_by_date(gam_test, user_id, all_prods)\n",
    "    plot_ts(ts, user_id, plt_column = 'weighted_bets', rg_info = rg_info)\n",
    "    plt.title(f'Weighted Number of Bets for #{user_id}')\n",
    "    plt.xlabel(\"Date\")\n",
    "    plt.ylabel(\"Weighted Bets\")\n",
    "    plt.legend()\n",
    "    plt.show()"
   ]
  },
  {
   "cell_type": "code",
   "execution_count": 17,
   "metadata": {},
   "outputs": [],
   "source": [
    "clear_prior_block = [3324091,2336892,2874213, 4478231]\n",
    "reported_prob_adv = [164641,3214045]"
   ]
  },
  {
   "cell_type": "code",
   "execution_count": 18,
   "metadata": {},
   "outputs": [
    {
     "name": "stdout",
     "output_type": "stream",
     "text": [
      "1\n"
     ]
    },
    {
     "data": {
      "image/png": "[encoded data removed]",
      "text/plain": [
       "<Figure size 432x288 with 1 Axes>"
      ]
     },
     "metadata": {
      "needs_background": "light"
     },
     "output_type": "display_data"
    }
   ],
   "source": [
    "user_id = 6237129\n",
    "all_prods = list(range(1,30))\n",
    "#date_range = ['2008-02-01':'2008-02-28']\n",
    "ts = accum_by_date(gam_test, user_id, all_prods)\n",
    "plot_ts(ts, user_id, plt_column = 'weighted_bets', rg_info = rg_info)\n",
    "plt.title(f'Weighted Number of Bets for #{user_id}')\n",
    "plt.xlabel(\"Date\")\n",
    "plt.ylabel(\"Weighted Bets\")\n",
    "plt.legend()\n",
    "plt.show()"
   ]
  },
  {
   "cell_type": "markdown",
   "metadata": {},
   "source": [
    "Let's compare RG flagged to non RG flagged"
   ]
  },
  {
   "cell_type": "code",
   "execution_count": 36,
   "metadata": {},
   "outputs": [],
   "source": [
    "rg_ids = list(demo_df[demo_df['rg'] == 1].index)\n",
    "no_rg_ids = list(demo_df[demo_df['rg'] == 0].index)"
   ]
  },
  {
   "cell_type": "code",
   "execution_count": 37,
   "metadata": {},
   "outputs": [],
   "source": [
    "rg_time_series = {}\n",
    "all_prods = list(range(1,30))\n",
    "for user_id in rg_ids:\n",
    "    rg_time_series[user_id] = accum_by_date(gam_test, user_id, all_prods)"
   ]
  },
  {
   "cell_type": "code",
   "execution_count": 38,
   "metadata": {},
   "outputs": [
    {
     "data": {
      "text/plain": [
       "5847.023986916271"
      ]
     },
     "execution_count": 38,
     "metadata": {},
     "output_type": "execute_result"
    }
   ],
   "source": [
    "acc = 0\n",
    "for user_id in rg_time_series:\n",
    "    acc += rg_time_series[user_id].hold_cum[-1]\n",
    "acc /= len(rg_time_series)\n",
    "acc"
   ]
  },
  {
   "cell_type": "code",
   "execution_count": 39,
   "metadata": {},
   "outputs": [],
   "source": [
    "nrg_time_series = {}\n",
    "all_prods = list(range(1,30))\n",
    "for user_id in no_rg_ids:\n",
    "    nrg_time_series[user_id] = accum_by_date(gam_test, user_id, all_prods)"
   ]
  },
  {
   "cell_type": "code",
   "execution_count": 40,
   "metadata": {},
   "outputs": [
    {
     "data": {
      "text/plain": [
       "378.8520896504892"
      ]
     },
     "execution_count": 40,
     "metadata": {},
     "output_type": "execute_result"
    }
   ],
   "source": [
    "acc = 0\n",
    "for user_id in nrg_time_series:\n",
    "    acc += nrg_time_series[user_id].hold_cum[-1]\n",
    "acc /= len(nrg_time_series)\n",
    "acc"
   ]
  },
  {
   "cell_type": "markdown",
   "metadata": {},
   "source": [
    "**Make Training Matrix**\n",
    "* Target: Whether an RG event happens in the next three months\n",
    "* We plan to use the following features:\n",
    "    * Weekly hold data from past three months\n",
    "    * Monthly hold data from past twelve\n",
    "    * Summaries of history\n",
    "        * Mean Activity\n",
    "        * Max activity\n",
    "        * Mean bets\n",
    "        * Max bet\n",
    "        * Weekend/Week Activity\n",
    "        * Rolling windows?\n",
    "    "
   ]
  },
  {
   "cell_type": "code",
   "execution_count": 98,
   "metadata": {},
   "outputs": [
    {
     "data": {
      "text/html": [
       "<div>\n",
       "<style scoped>\n",
       "    .dataframe tbody tr th:only-of-type {\n",
       "        vertical-align: middle;\n",
       "    }\n",
       "\n",
       "    .dataframe tbody tr th {\n",
       "        vertical-align: top;\n",
       "    }\n",
       "\n",
       "    .dataframe thead th {\n",
       "        text-align: right;\n",
       "    }\n",
       "</style>\n",
       "<table border=\"1\" class=\"dataframe\">\n",
       "  <thead>\n",
       "    <tr style=\"text-align: right;\">\n",
       "      <th></th>\n",
       "      <th>turnover</th>\n",
       "      <th>hold</th>\n",
       "      <th>num_bets</th>\n",
       "      <th>weekend</th>\n",
       "      <th>weighted_bets</th>\n",
       "      <th>hold_cum</th>\n",
       "    </tr>\n",
       "  </thead>\n",
       "  <tbody>\n",
       "    <tr>\n",
       "      <th>2005-10-26</th>\n",
       "      <td>0.0</td>\n",
       "      <td>0.0</td>\n",
       "      <td>0</td>\n",
       "      <td>False</td>\n",
       "      <td>0.000000</td>\n",
       "      <td>0.000</td>\n",
       "    </tr>\n",
       "    <tr>\n",
       "      <th>2005-10-27</th>\n",
       "      <td>304.0</td>\n",
       "      <td>25.0</td>\n",
       "      <td>2</td>\n",
       "      <td>False</td>\n",
       "      <td>0.051835</td>\n",
       "      <td>25.000</td>\n",
       "    </tr>\n",
       "    <tr>\n",
       "      <th>2005-10-28</th>\n",
       "      <td>7.0</td>\n",
       "      <td>-0.8</td>\n",
       "      <td>5</td>\n",
       "      <td>True</td>\n",
       "      <td>2.316016</td>\n",
       "      <td>24.200</td>\n",
       "    </tr>\n",
       "    <tr>\n",
       "      <th>2005-10-29</th>\n",
       "      <td>7.4</td>\n",
       "      <td>5.8</td>\n",
       "      <td>5</td>\n",
       "      <td>True</td>\n",
       "      <td>2.316016</td>\n",
       "      <td>30.000</td>\n",
       "    </tr>\n",
       "    <tr>\n",
       "      <th>2005-10-30</th>\n",
       "      <td>0.0</td>\n",
       "      <td>0.0</td>\n",
       "      <td>0</td>\n",
       "      <td>True</td>\n",
       "      <td>0.000000</td>\n",
       "      <td>30.000</td>\n",
       "    </tr>\n",
       "    <tr>\n",
       "      <th>...</th>\n",
       "      <td>...</td>\n",
       "      <td>...</td>\n",
       "      <td>...</td>\n",
       "      <td>...</td>\n",
       "      <td>...</td>\n",
       "      <td>...</td>\n",
       "    </tr>\n",
       "    <tr>\n",
       "      <th>2010-11-26</th>\n",
       "      <td>0.0</td>\n",
       "      <td>0.0</td>\n",
       "      <td>0</td>\n",
       "      <td>True</td>\n",
       "      <td>0.000000</td>\n",
       "      <td>27898.165</td>\n",
       "    </tr>\n",
       "    <tr>\n",
       "      <th>2010-11-27</th>\n",
       "      <td>0.0</td>\n",
       "      <td>0.0</td>\n",
       "      <td>0</td>\n",
       "      <td>True</td>\n",
       "      <td>0.000000</td>\n",
       "      <td>27898.165</td>\n",
       "    </tr>\n",
       "    <tr>\n",
       "      <th>2010-11-28</th>\n",
       "      <td>0.0</td>\n",
       "      <td>0.0</td>\n",
       "      <td>0</td>\n",
       "      <td>True</td>\n",
       "      <td>0.000000</td>\n",
       "      <td>27898.165</td>\n",
       "    </tr>\n",
       "    <tr>\n",
       "      <th>2010-11-29</th>\n",
       "      <td>0.0</td>\n",
       "      <td>0.0</td>\n",
       "      <td>0</td>\n",
       "      <td>False</td>\n",
       "      <td>0.000000</td>\n",
       "      <td>27898.165</td>\n",
       "    </tr>\n",
       "    <tr>\n",
       "      <th>2010-11-30</th>\n",
       "      <td>0.0</td>\n",
       "      <td>0.0</td>\n",
       "      <td>0</td>\n",
       "      <td>False</td>\n",
       "      <td>0.000000</td>\n",
       "      <td>27898.165</td>\n",
       "    </tr>\n",
       "  </tbody>\n",
       "</table>\n",
       "<p>1862 rows × 6 columns</p>\n",
       "</div>"
      ],
      "text/plain": [
       "            turnover  hold  num_bets  weekend  weighted_bets   hold_cum\n",
       "2005-10-26       0.0   0.0         0    False       0.000000      0.000\n",
       "2005-10-27     304.0  25.0         2    False       0.051835     25.000\n",
       "2005-10-28       7.0  -0.8         5     True       2.316016     24.200\n",
       "2005-10-29       7.4   5.8         5     True       2.316016     30.000\n",
       "2005-10-30       0.0   0.0         0     True       0.000000     30.000\n",
       "...              ...   ...       ...      ...            ...        ...\n",
       "2010-11-26       0.0   0.0         0     True       0.000000  27898.165\n",
       "2010-11-27       0.0   0.0         0     True       0.000000  27898.165\n",
       "2010-11-28       0.0   0.0         0     True       0.000000  27898.165\n",
       "2010-11-29       0.0   0.0         0    False       0.000000  27898.165\n",
       "2010-11-30       0.0   0.0         0    False       0.000000  27898.165\n",
       "\n",
       "[1862 rows x 6 columns]"
      ]
     },
     "execution_count": 98,
     "metadata": {},
     "output_type": "execute_result"
    }
   ],
   "source": [
    "user = 2062223\n",
    "ts_test = rg_time_series[2062223]\n",
    "ts_test"
   ]
  },
  {
   "cell_type": "code",
   "execution_count": 99,
   "metadata": {},
   "outputs": [
    {
     "data": {
      "text/html": [
       "<div>\n",
       "<style scoped>\n",
       "    .dataframe tbody tr th:only-of-type {\n",
       "        vertical-align: middle;\n",
       "    }\n",
       "\n",
       "    .dataframe tbody tr th {\n",
       "        vertical-align: top;\n",
       "    }\n",
       "\n",
       "    .dataframe thead th {\n",
       "        text-align: right;\n",
       "    }\n",
       "</style>\n",
       "<table border=\"1\" class=\"dataframe\">\n",
       "  <thead>\n",
       "    <tr style=\"text-align: right;\">\n",
       "      <th></th>\n",
       "      <th>turnover</th>\n",
       "      <th>hold</th>\n",
       "      <th>num_bets</th>\n",
       "      <th>weighted_bets</th>\n",
       "      <th>hold_cum</th>\n",
       "    </tr>\n",
       "    <tr>\n",
       "      <th>weekend</th>\n",
       "      <th></th>\n",
       "      <th></th>\n",
       "      <th></th>\n",
       "      <th></th>\n",
       "      <th></th>\n",
       "    </tr>\n",
       "  </thead>\n",
       "  <tbody>\n",
       "    <tr>\n",
       "      <th>False</th>\n",
       "      <td>256950.2171</td>\n",
       "      <td>12775.6771</td>\n",
       "      <td>34674</td>\n",
       "      <td>5881.653353</td>\n",
       "      <td>1.700581e+07</td>\n",
       "    </tr>\n",
       "    <tr>\n",
       "      <th>True</th>\n",
       "      <td>159110.2279</td>\n",
       "      <td>15122.4879</td>\n",
       "      <td>20367</td>\n",
       "      <td>5927.682039</td>\n",
       "      <td>1.275660e+07</td>\n",
       "    </tr>\n",
       "  </tbody>\n",
       "</table>\n",
       "</div>"
      ],
      "text/plain": [
       "            turnover        hold  num_bets  weighted_bets      hold_cum\n",
       "weekend                                                                \n",
       "False    256950.2171  12775.6771     34674    5881.653353  1.700581e+07\n",
       "True     159110.2279  15122.4879     20367    5927.682039  1.275660e+07"
      ]
     },
     "execution_count": 99,
     "metadata": {},
     "output_type": "execute_result"
    }
   ],
   "source": [
    "ts_test.groupby('weekend').sum()"
   ]
  },
  {
   "cell_type": "code",
   "execution_count": 104,
   "metadata": {},
   "outputs": [
    {
     "ename": "AttributeError",
     "evalue": "'DatetimeIndexResampler' object has no attribute 'drop'",
     "output_type": "error",
     "traceback": [
      "\u001b[0;31m---------------------------------------------------------------------------\u001b[0m",
      "\u001b[0;31mAttributeError\u001b[0m                            Traceback (most recent call last)",
      "\u001b[0;32m<ipython-input-104-63487d719f6b>\u001b[0m in \u001b[0;36m<module>\u001b[0;34m\u001b[0m\n\u001b[0;32m----> 1\u001b[0;31m \u001b[0mweek_ts\u001b[0m \u001b[0;34m=\u001b[0m \u001b[0mts_test\u001b[0m\u001b[0;34m.\u001b[0m\u001b[0mresample\u001b[0m\u001b[0;34m(\u001b[0m\u001b[0;34m'W'\u001b[0m\u001b[0;34m)\u001b[0m\u001b[0;34m.\u001b[0m\u001b[0mdrop\u001b[0m\u001b[0;34m(\u001b[0m\u001b[0;34m\"hold_cum\"\u001b[0m\u001b[0;34m)\u001b[0m\u001b[0;34m\u001b[0m\u001b[0;34m\u001b[0m\u001b[0m\n\u001b[0m",
      "\u001b[0;32m~/Downloads/ENTER/lib/python3.7/site-packages/pandas/core/resample.py\u001b[0m in \u001b[0;36m__getattr__\u001b[0;34m(self, attr)\u001b[0m\n\u001b[1;32m    105\u001b[0m             \u001b[0;32mreturn\u001b[0m \u001b[0mself\u001b[0m\u001b[0;34m[\u001b[0m\u001b[0mattr\u001b[0m\u001b[0;34m]\u001b[0m\u001b[0;34m\u001b[0m\u001b[0;34m\u001b[0m\u001b[0m\n\u001b[1;32m    106\u001b[0m \u001b[0;34m\u001b[0m\u001b[0m\n\u001b[0;32m--> 107\u001b[0;31m         \u001b[0;32mreturn\u001b[0m \u001b[0mobject\u001b[0m\u001b[0;34m.\u001b[0m\u001b[0m__getattribute__\u001b[0m\u001b[0;34m(\u001b[0m\u001b[0mself\u001b[0m\u001b[0;34m,\u001b[0m \u001b[0mattr\u001b[0m\u001b[0;34m)\u001b[0m\u001b[0;34m\u001b[0m\u001b[0;34m\u001b[0m\u001b[0m\n\u001b[0m\u001b[1;32m    108\u001b[0m \u001b[0;34m\u001b[0m\u001b[0m\n\u001b[1;32m    109\u001b[0m     \u001b[0;32mdef\u001b[0m \u001b[0m__iter__\u001b[0m\u001b[0;34m(\u001b[0m\u001b[0mself\u001b[0m\u001b[0;34m)\u001b[0m\u001b[0;34m:\u001b[0m\u001b[0;34m\u001b[0m\u001b[0;34m\u001b[0m\u001b[0m\n",
      "\u001b[0;31mAttributeError\u001b[0m: 'DatetimeIndexResampler' object has no attribute 'drop'"
     ]
    }
   ],
   "source": [
    "week_ts = ts_test.resample('W')"
   ]
  },
  {
   "cell_type": "code",
   "execution_count": 106,
   "metadata": {},
   "outputs": [
    {
     "data": {
      "text/html": [
       "<div>\n",
       "<style scoped>\n",
       "    .dataframe tbody tr th:only-of-type {\n",
       "        vertical-align: middle;\n",
       "    }\n",
       "\n",
       "    .dataframe tbody tr th {\n",
       "        vertical-align: top;\n",
       "    }\n",
       "\n",
       "    .dataframe thead th {\n",
       "        text-align: right;\n",
       "    }\n",
       "</style>\n",
       "<table border=\"1\" class=\"dataframe\">\n",
       "  <thead>\n",
       "    <tr style=\"text-align: right;\">\n",
       "      <th></th>\n",
       "      <th>turnover</th>\n",
       "      <th>hold</th>\n",
       "      <th>num_bets</th>\n",
       "      <th>weekend</th>\n",
       "      <th>weighted_bets</th>\n",
       "    </tr>\n",
       "  </thead>\n",
       "  <tbody>\n",
       "    <tr>\n",
       "      <th>2010-09-12</th>\n",
       "      <td>47.13</td>\n",
       "      <td>11.0</td>\n",
       "      <td>8</td>\n",
       "      <td>3.0</td>\n",
       "      <td>3.705626</td>\n",
       "    </tr>\n",
       "    <tr>\n",
       "      <th>2010-09-19</th>\n",
       "      <td>0.00</td>\n",
       "      <td>0.0</td>\n",
       "      <td>0</td>\n",
       "      <td>3.0</td>\n",
       "      <td>0.000000</td>\n",
       "    </tr>\n",
       "    <tr>\n",
       "      <th>2010-09-26</th>\n",
       "      <td>0.00</td>\n",
       "      <td>0.0</td>\n",
       "      <td>0</td>\n",
       "      <td>3.0</td>\n",
       "      <td>0.000000</td>\n",
       "    </tr>\n",
       "    <tr>\n",
       "      <th>2010-10-03</th>\n",
       "      <td>0.00</td>\n",
       "      <td>0.0</td>\n",
       "      <td>0</td>\n",
       "      <td>3.0</td>\n",
       "      <td>0.000000</td>\n",
       "    </tr>\n",
       "  </tbody>\n",
       "</table>\n",
       "</div>"
      ],
      "text/plain": [
       "            turnover  hold  num_bets  weekend  weighted_bets\n",
       "2010-09-12     47.13  11.0         8      3.0       3.705626\n",
       "2010-09-19      0.00   0.0         0      3.0       0.000000\n",
       "2010-09-26      0.00   0.0         0      3.0       0.000000\n",
       "2010-10-03      0.00   0.0         0      3.0       0.000000"
      ]
     },
     "execution_count": 106,
     "metadata": {},
     "output_type": "execute_result"
    }
   ],
   "source": [
    "x = week_ts.sum().drop(\"hold_cum\", axis = 1)\n",
    "x['2010-09-09':'2010-10-09']"
   ]
  },
  {
   "cell_type": "code",
   "execution_count": 51,
   "metadata": {},
   "outputs": [
    {
     "data": {
      "text/html": [
       "<div>\n",
       "<style scoped>\n",
       "    .dataframe tbody tr th:only-of-type {\n",
       "        vertical-align: middle;\n",
       "    }\n",
       "\n",
       "    .dataframe tbody tr th {\n",
       "        vertical-align: top;\n",
       "    }\n",
       "\n",
       "    .dataframe thead th {\n",
       "        text-align: right;\n",
       "    }\n",
       "</style>\n",
       "<table border=\"1\" class=\"dataframe\">\n",
       "  <thead>\n",
       "    <tr style=\"text-align: right;\">\n",
       "      <th></th>\n",
       "      <th>turnover</th>\n",
       "      <th>hold</th>\n",
       "      <th>num_bets</th>\n",
       "      <th>weekend</th>\n",
       "      <th>weighted_bets</th>\n",
       "      <th>hold_cum</th>\n",
       "    </tr>\n",
       "  </thead>\n",
       "  <tbody>\n",
       "    <tr>\n",
       "      <th>2005-10-31</th>\n",
       "      <td>318.40</td>\n",
       "      <td>30.00</td>\n",
       "      <td>12</td>\n",
       "      <td>3.0</td>\n",
       "      <td>4.683868</td>\n",
       "      <td>139.200</td>\n",
       "    </tr>\n",
       "    <tr>\n",
       "      <th>2005-11-30</th>\n",
       "      <td>9438.61</td>\n",
       "      <td>397.00</td>\n",
       "      <td>1142</td>\n",
       "      <td>12.0</td>\n",
       "      <td>146.936619</td>\n",
       "      <td>4751.410</td>\n",
       "    </tr>\n",
       "    <tr>\n",
       "      <th>2005-12-31</th>\n",
       "      <td>12519.50</td>\n",
       "      <td>-88.00</td>\n",
       "      <td>2337</td>\n",
       "      <td>14.0</td>\n",
       "      <td>51.895119</td>\n",
       "      <td>7669.000</td>\n",
       "    </tr>\n",
       "    <tr>\n",
       "      <th>2006-01-31</th>\n",
       "      <td>3220.03</td>\n",
       "      <td>686.00</td>\n",
       "      <td>614</td>\n",
       "      <td>13.0</td>\n",
       "      <td>13.701738</td>\n",
       "      <td>22563.000</td>\n",
       "    </tr>\n",
       "    <tr>\n",
       "      <th>2006-02-28</th>\n",
       "      <td>19790.22</td>\n",
       "      <td>702.72</td>\n",
       "      <td>1640</td>\n",
       "      <td>12.0</td>\n",
       "      <td>79.285110</td>\n",
       "      <td>37808.500</td>\n",
       "    </tr>\n",
       "    <tr>\n",
       "      <th>...</th>\n",
       "      <td>...</td>\n",
       "      <td>...</td>\n",
       "      <td>...</td>\n",
       "      <td>...</td>\n",
       "      <td>...</td>\n",
       "      <td>...</td>\n",
       "    </tr>\n",
       "    <tr>\n",
       "      <th>2010-07-31</th>\n",
       "      <td>0.00</td>\n",
       "      <td>0.00</td>\n",
       "      <td>0</td>\n",
       "      <td>14.0</td>\n",
       "      <td>0.000000</td>\n",
       "      <td>863882.115</td>\n",
       "    </tr>\n",
       "    <tr>\n",
       "      <th>2010-08-31</th>\n",
       "      <td>0.00</td>\n",
       "      <td>0.00</td>\n",
       "      <td>0</td>\n",
       "      <td>13.0</td>\n",
       "      <td>0.000000</td>\n",
       "      <td>863882.115</td>\n",
       "    </tr>\n",
       "    <tr>\n",
       "      <th>2010-09-30</th>\n",
       "      <td>47.13</td>\n",
       "      <td>11.00</td>\n",
       "      <td>8</td>\n",
       "      <td>12.0</td>\n",
       "      <td>3.705626</td>\n",
       "      <td>836273.950</td>\n",
       "    </tr>\n",
       "    <tr>\n",
       "      <th>2010-10-31</th>\n",
       "      <td>48.00</td>\n",
       "      <td>10.00</td>\n",
       "      <td>5</td>\n",
       "      <td>15.0</td>\n",
       "      <td>2.316016</td>\n",
       "      <td>864433.115</td>\n",
       "    </tr>\n",
       "    <tr>\n",
       "      <th>2010-11-30</th>\n",
       "      <td>10.00</td>\n",
       "      <td>10.00</td>\n",
       "      <td>2</td>\n",
       "      <td>12.0</td>\n",
       "      <td>0.926407</td>\n",
       "      <td>836914.950</td>\n",
       "    </tr>\n",
       "  </tbody>\n",
       "</table>\n",
       "<p>62 rows × 6 columns</p>\n",
       "</div>"
      ],
      "text/plain": [
       "            turnover    hold  num_bets  weekend  weighted_bets    hold_cum\n",
       "2005-10-31    318.40   30.00        12      3.0       4.683868     139.200\n",
       "2005-11-30   9438.61  397.00      1142     12.0     146.936619    4751.410\n",
       "2005-12-31  12519.50  -88.00      2337     14.0      51.895119    7669.000\n",
       "2006-01-31   3220.03  686.00       614     13.0      13.701738   22563.000\n",
       "2006-02-28  19790.22  702.72      1640     12.0      79.285110   37808.500\n",
       "...              ...     ...       ...      ...            ...         ...\n",
       "2010-07-31      0.00    0.00         0     14.0       0.000000  863882.115\n",
       "2010-08-31      0.00    0.00         0     13.0       0.000000  863882.115\n",
       "2010-09-30     47.13   11.00         8     12.0       3.705626  836273.950\n",
       "2010-10-31     48.00   10.00         5     15.0       2.316016  864433.115\n",
       "2010-11-30     10.00   10.00         2     12.0       0.926407  836914.950\n",
       "\n",
       "[62 rows x 6 columns]"
      ]
     },
     "execution_count": 51,
     "metadata": {},
     "output_type": "execute_result"
    }
   ],
   "source": [
    "month_ts = ts_test.resample('M')\n",
    "month_ts.sum()"
   ]
  },
  {
   "cell_type": "code",
   "execution_count": 61,
   "metadata": {},
   "outputs": [
    {
     "data": {
      "text/html": [
       "<div>\n",
       "<style scoped>\n",
       "    .dataframe tbody tr th:only-of-type {\n",
       "        vertical-align: middle;\n",
       "    }\n",
       "\n",
       "    .dataframe tbody tr th {\n",
       "        vertical-align: top;\n",
       "    }\n",
       "\n",
       "    .dataframe thead th {\n",
       "        text-align: right;\n",
       "    }\n",
       "</style>\n",
       "<table border=\"1\" class=\"dataframe\">\n",
       "  <thead>\n",
       "    <tr style=\"text-align: right;\">\n",
       "      <th></th>\n",
       "      <th>user_id</th>\n",
       "      <th>date</th>\n",
       "      <th>turnover</th>\n",
       "      <th>hold</th>\n",
       "      <th>num_bets</th>\n",
       "      <th>weekend</th>\n",
       "      <th>weighted_bets</th>\n",
       "    </tr>\n",
       "    <tr>\n",
       "      <th>product_type</th>\n",
       "      <th></th>\n",
       "      <th></th>\n",
       "      <th></th>\n",
       "      <th></th>\n",
       "      <th></th>\n",
       "      <th></th>\n",
       "      <th></th>\n",
       "    </tr>\n",
       "  </thead>\n",
       "  <tbody>\n",
       "    <tr>\n",
       "      <th>1</th>\n",
       "      <td>601</td>\n",
       "      <td>601</td>\n",
       "      <td>601</td>\n",
       "      <td>601</td>\n",
       "      <td>601</td>\n",
       "      <td>601</td>\n",
       "      <td>601</td>\n",
       "    </tr>\n",
       "    <tr>\n",
       "      <th>2</th>\n",
       "      <td>906</td>\n",
       "      <td>906</td>\n",
       "      <td>906</td>\n",
       "      <td>906</td>\n",
       "      <td>906</td>\n",
       "      <td>906</td>\n",
       "      <td>906</td>\n",
       "    </tr>\n",
       "    <tr>\n",
       "      <th>4</th>\n",
       "      <td>6</td>\n",
       "      <td>6</td>\n",
       "      <td>6</td>\n",
       "      <td>6</td>\n",
       "      <td>6</td>\n",
       "      <td>6</td>\n",
       "      <td>6</td>\n",
       "    </tr>\n",
       "    <tr>\n",
       "      <th>6</th>\n",
       "      <td>11</td>\n",
       "      <td>11</td>\n",
       "      <td>0</td>\n",
       "      <td>0</td>\n",
       "      <td>11</td>\n",
       "      <td>11</td>\n",
       "      <td>11</td>\n",
       "    </tr>\n",
       "    <tr>\n",
       "      <th>7</th>\n",
       "      <td>2</td>\n",
       "      <td>2</td>\n",
       "      <td>0</td>\n",
       "      <td>0</td>\n",
       "      <td>2</td>\n",
       "      <td>2</td>\n",
       "      <td>2</td>\n",
       "    </tr>\n",
       "    <tr>\n",
       "      <th>8</th>\n",
       "      <td>142</td>\n",
       "      <td>142</td>\n",
       "      <td>142</td>\n",
       "      <td>142</td>\n",
       "      <td>142</td>\n",
       "      <td>142</td>\n",
       "      <td>142</td>\n",
       "    </tr>\n",
       "    <tr>\n",
       "      <th>14</th>\n",
       "      <td>161</td>\n",
       "      <td>161</td>\n",
       "      <td>0</td>\n",
       "      <td>0</td>\n",
       "      <td>161</td>\n",
       "      <td>161</td>\n",
       "      <td>161</td>\n",
       "    </tr>\n",
       "    <tr>\n",
       "      <th>15</th>\n",
       "      <td>30</td>\n",
       "      <td>30</td>\n",
       "      <td>0</td>\n",
       "      <td>0</td>\n",
       "      <td>30</td>\n",
       "      <td>30</td>\n",
       "      <td>30</td>\n",
       "    </tr>\n",
       "    <tr>\n",
       "      <th>19</th>\n",
       "      <td>2</td>\n",
       "      <td>2</td>\n",
       "      <td>0</td>\n",
       "      <td>0</td>\n",
       "      <td>2</td>\n",
       "      <td>2</td>\n",
       "      <td>2</td>\n",
       "    </tr>\n",
       "  </tbody>\n",
       "</table>\n",
       "</div>"
      ],
      "text/plain": [
       "              user_id  date  turnover  hold  num_bets  weekend  weighted_bets\n",
       "product_type                                                                 \n",
       "1                 601   601       601   601       601      601            601\n",
       "2                 906   906       906   906       906      906            906\n",
       "4                   6     6         6     6         6        6              6\n",
       "6                  11    11         0     0        11       11             11\n",
       "7                   2     2         0     0         2        2              2\n",
       "8                 142   142       142   142       142      142            142\n",
       "14                161   161         0     0       161      161            161\n",
       "15                 30    30         0     0        30       30             30\n",
       "19                  2     2         0     0         2        2              2"
      ]
     },
     "execution_count": 61,
     "metadata": {},
     "output_type": "execute_result"
    }
   ],
   "source": [
    "user_mask = gam_df['user_id'] == user\n",
    "gam_df[user_mask].groupby('product_type').count()"
   ]
  },
  {
   "cell_type": "code",
   "execution_count": 93,
   "metadata": {},
   "outputs": [],
   "source": [
    "x = gam_df.groupby('user_id').mean()\n",
    "x['rg'] = False\n",
    "for user_id in x.index:\n",
    "    if user_id in rg_ids:\n",
    "        x.loc[user_id, 'rg'] = True"
   ]
  },
  {
   "cell_type": "code",
   "execution_count": 94,
   "metadata": {},
   "outputs": [
    {
     "data": {
      "text/html": [
       "<div>\n",
       "<style scoped>\n",
       "    .dataframe tbody tr th:only-of-type {\n",
       "        vertical-align: middle;\n",
       "    }\n",
       "\n",
       "    .dataframe tbody tr th {\n",
       "        vertical-align: top;\n",
       "    }\n",
       "\n",
       "    .dataframe thead th {\n",
       "        text-align: right;\n",
       "    }\n",
       "</style>\n",
       "<table border=\"1\" class=\"dataframe\">\n",
       "  <thead>\n",
       "    <tr style=\"text-align: right;\">\n",
       "      <th></th>\n",
       "      <th>product_type</th>\n",
       "      <th>turnover</th>\n",
       "      <th>hold</th>\n",
       "      <th>num_bets</th>\n",
       "      <th>weekend</th>\n",
       "      <th>weighted_bets</th>\n",
       "      <th>rg</th>\n",
       "    </tr>\n",
       "    <tr>\n",
       "      <th>user_id</th>\n",
       "      <th></th>\n",
       "      <th></th>\n",
       "      <th></th>\n",
       "      <th></th>\n",
       "      <th></th>\n",
       "      <th></th>\n",
       "      <th></th>\n",
       "    </tr>\n",
       "  </thead>\n",
       "  <tbody>\n",
       "    <tr>\n",
       "      <th>31965</th>\n",
       "      <td>2.042005</td>\n",
       "      <td>85.580042</td>\n",
       "      <td>10.378040</td>\n",
       "      <td>9.178862</td>\n",
       "      <td>0.444444</td>\n",
       "      <td>3.873417</td>\n",
       "      <td>True</td>\n",
       "    </tr>\n",
       "    <tr>\n",
       "      <th>32639</th>\n",
       "      <td>1.015152</td>\n",
       "      <td>9.488517</td>\n",
       "      <td>2.524742</td>\n",
       "      <td>1.000000</td>\n",
       "      <td>0.454545</td>\n",
       "      <td>0.991867</td>\n",
       "      <td>False</td>\n",
       "    </tr>\n",
       "    <tr>\n",
       "      <th>36822</th>\n",
       "      <td>8.145161</td>\n",
       "      <td>7.528308</td>\n",
       "      <td>-0.233231</td>\n",
       "      <td>3.354839</td>\n",
       "      <td>0.322581</td>\n",
       "      <td>0.715177</td>\n",
       "      <td>False</td>\n",
       "    </tr>\n",
       "    <tr>\n",
       "      <th>36916</th>\n",
       "      <td>1.495726</td>\n",
       "      <td>216.604561</td>\n",
       "      <td>15.121394</td>\n",
       "      <td>81.854701</td>\n",
       "      <td>0.512821</td>\n",
       "      <td>4.716987</td>\n",
       "      <td>True</td>\n",
       "    </tr>\n",
       "    <tr>\n",
       "      <th>38386</th>\n",
       "      <td>1.168831</td>\n",
       "      <td>4.206921</td>\n",
       "      <td>1.427086</td>\n",
       "      <td>2.285714</td>\n",
       "      <td>0.441558</td>\n",
       "      <td>2.211040</td>\n",
       "      <td>True</td>\n",
       "    </tr>\n",
       "    <tr>\n",
       "      <th>...</th>\n",
       "      <td>...</td>\n",
       "      <td>...</td>\n",
       "      <td>...</td>\n",
       "      <td>...</td>\n",
       "      <td>...</td>\n",
       "      <td>...</td>\n",
       "      <td>...</td>\n",
       "    </tr>\n",
       "    <tr>\n",
       "      <th>9821694</th>\n",
       "      <td>10.000000</td>\n",
       "      <td>NaN</td>\n",
       "      <td>NaN</td>\n",
       "      <td>15.000000</td>\n",
       "      <td>0.666667</td>\n",
       "      <td>0.843682</td>\n",
       "      <td>False</td>\n",
       "    </tr>\n",
       "    <tr>\n",
       "      <th>9822065</th>\n",
       "      <td>6.275000</td>\n",
       "      <td>8.274000</td>\n",
       "      <td>1.369750</td>\n",
       "      <td>33.375000</td>\n",
       "      <td>0.262500</td>\n",
       "      <td>4.363776</td>\n",
       "      <td>True</td>\n",
       "    </tr>\n",
       "    <tr>\n",
       "      <th>9822269</th>\n",
       "      <td>1.000000</td>\n",
       "      <td>35.241877</td>\n",
       "      <td>35.241877</td>\n",
       "      <td>1.500000</td>\n",
       "      <td>1.000000</td>\n",
       "      <td>1.500000</td>\n",
       "      <td>False</td>\n",
       "    </tr>\n",
       "    <tr>\n",
       "      <th>9858876</th>\n",
       "      <td>4.500000</td>\n",
       "      <td>4439.375000</td>\n",
       "      <td>915.000000</td>\n",
       "      <td>139.000000</td>\n",
       "      <td>1.000000</td>\n",
       "      <td>3.068409</td>\n",
       "      <td>True</td>\n",
       "    </tr>\n",
       "    <tr>\n",
       "      <th>9859152</th>\n",
       "      <td>3.500000</td>\n",
       "      <td>5.000000</td>\n",
       "      <td>5.000000</td>\n",
       "      <td>12.250000</td>\n",
       "      <td>1.000000</td>\n",
       "      <td>1.433643</td>\n",
       "      <td>False</td>\n",
       "    </tr>\n",
       "  </tbody>\n",
       "</table>\n",
       "<p>4113 rows × 7 columns</p>\n",
       "</div>"
      ],
      "text/plain": [
       "         product_type     turnover        hold    num_bets   weekend  \\\n",
       "user_id                                                                \n",
       "31965        2.042005    85.580042   10.378040    9.178862  0.444444   \n",
       "32639        1.015152     9.488517    2.524742    1.000000  0.454545   \n",
       "36822        8.145161     7.528308   -0.233231    3.354839  0.322581   \n",
       "36916        1.495726   216.604561   15.121394   81.854701  0.512821   \n",
       "38386        1.168831     4.206921    1.427086    2.285714  0.441558   \n",
       "...               ...          ...         ...         ...       ...   \n",
       "9821694     10.000000          NaN         NaN   15.000000  0.666667   \n",
       "9822065      6.275000     8.274000    1.369750   33.375000  0.262500   \n",
       "9822269      1.000000    35.241877   35.241877    1.500000  1.000000   \n",
       "9858876      4.500000  4439.375000  915.000000  139.000000  1.000000   \n",
       "9859152      3.500000     5.000000    5.000000   12.250000  1.000000   \n",
       "\n",
       "         weighted_bets     rg  \n",
       "user_id                        \n",
       "31965         3.873417   True  \n",
       "32639         0.991867  False  \n",
       "36822         0.715177  False  \n",
       "36916         4.716987   True  \n",
       "38386         2.211040   True  \n",
       "...                ...    ...  \n",
       "9821694       0.843682  False  \n",
       "9822065       4.363776   True  \n",
       "9822269       1.500000  False  \n",
       "9858876       3.068409   True  \n",
       "9859152       1.433643  False  \n",
       "\n",
       "[4113 rows x 7 columns]"
      ]
     },
     "execution_count": 94,
     "metadata": {},
     "output_type": "execute_result"
    }
   ],
   "source": [
    "x"
   ]
  },
  {
   "cell_type": "code",
   "execution_count": 97,
   "metadata": {},
   "outputs": [
    {
     "data": {
      "text/html": [
       "<div>\n",
       "<style scoped>\n",
       "    .dataframe tbody tr th:only-of-type {\n",
       "        vertical-align: middle;\n",
       "    }\n",
       "\n",
       "    .dataframe tbody tr th {\n",
       "        vertical-align: top;\n",
       "    }\n",
       "\n",
       "    .dataframe thead th {\n",
       "        text-align: right;\n",
       "    }\n",
       "</style>\n",
       "<table border=\"1\" class=\"dataframe\">\n",
       "  <thead>\n",
       "    <tr style=\"text-align: right;\">\n",
       "      <th></th>\n",
       "      <th>product_type</th>\n",
       "      <th>turnover</th>\n",
       "      <th>hold</th>\n",
       "      <th>num_bets</th>\n",
       "      <th>weekend</th>\n",
       "      <th>weighted_bets</th>\n",
       "    </tr>\n",
       "    <tr>\n",
       "      <th>rg</th>\n",
       "      <th></th>\n",
       "      <th></th>\n",
       "      <th></th>\n",
       "      <th></th>\n",
       "      <th></th>\n",
       "      <th></th>\n",
       "    </tr>\n",
       "  </thead>\n",
       "  <tbody>\n",
       "    <tr>\n",
       "      <th>False</th>\n",
       "      <td>2.907941</td>\n",
       "      <td>88.747338</td>\n",
       "      <td>6.101446</td>\n",
       "      <td>18.453652</td>\n",
       "      <td>0.472873</td>\n",
       "      <td>2.633354</td>\n",
       "    </tr>\n",
       "    <tr>\n",
       "      <th>True</th>\n",
       "      <td>3.830005</td>\n",
       "      <td>390.073958</td>\n",
       "      <td>19.300520</td>\n",
       "      <td>49.598947</td>\n",
       "      <td>0.454328</td>\n",
       "      <td>5.747101</td>\n",
       "    </tr>\n",
       "  </tbody>\n",
       "</table>\n",
       "</div>"
      ],
      "text/plain": [
       "       product_type    turnover       hold   num_bets   weekend  weighted_bets\n",
       "rg                                                                            \n",
       "False      2.907941   88.747338   6.101446  18.453652  0.472873       2.633354\n",
       "True       3.830005  390.073958  19.300520  49.598947  0.454328       5.747101"
      ]
     },
     "execution_count": 97,
     "metadata": {},
     "output_type": "execute_result"
    }
   ],
   "source": [
    "x.groupby('rg').mean()"
   ]
  },
  {
   "cell_type": "code",
   "execution_count": 107,
   "metadata": {},
   "outputs": [
    {
     "data": {
      "text/html": [
       "<div>\n",
       "<style scoped>\n",
       "    .dataframe tbody tr th:only-of-type {\n",
       "        vertical-align: middle;\n",
       "    }\n",
       "\n",
       "    .dataframe tbody tr th {\n",
       "        vertical-align: top;\n",
       "    }\n",
       "\n",
       "    .dataframe thead th {\n",
       "        text-align: right;\n",
       "    }\n",
       "</style>\n",
       "<table border=\"1\" class=\"dataframe\">\n",
       "  <thead>\n",
       "    <tr style=\"text-align: right;\">\n",
       "      <th></th>\n",
       "      <th>events</th>\n",
       "      <th>first_date</th>\n",
       "      <th>last_date</th>\n",
       "      <th>event_type_first</th>\n",
       "      <th>inter_type_first</th>\n",
       "      <th>ev_desc</th>\n",
       "      <th>inter_desc</th>\n",
       "    </tr>\n",
       "    <tr>\n",
       "      <th>user_id</th>\n",
       "      <th></th>\n",
       "      <th></th>\n",
       "      <th></th>\n",
       "      <th></th>\n",
       "      <th></th>\n",
       "      <th></th>\n",
       "      <th></th>\n",
       "    </tr>\n",
       "  </thead>\n",
       "  <tbody>\n",
       "    <tr>\n",
       "      <th>2169867</th>\n",
       "      <td>1</td>\n",
       "      <td>2009-11-19</td>\n",
       "      <td>2009-11-19</td>\n",
       "      <td>9</td>\n",
       "      <td>18</td>\n",
       "      <td>Request Partial Block</td>\n",
       "      <td>Requested Partial Block Not Possible</td>\n",
       "    </tr>\n",
       "    <tr>\n",
       "      <th>7035862</th>\n",
       "      <td>1</td>\n",
       "      <td>2009-11-15</td>\n",
       "      <td>2009-11-15</td>\n",
       "      <td>9</td>\n",
       "      <td>18</td>\n",
       "      <td>Request Partial Block</td>\n",
       "      <td>Requested Partial Block Not Possible</td>\n",
       "    </tr>\n",
       "    <tr>\n",
       "      <th>5911218</th>\n",
       "      <td>1</td>\n",
       "      <td>2009-11-08</td>\n",
       "      <td>2009-11-08</td>\n",
       "      <td>9</td>\n",
       "      <td>18</td>\n",
       "      <td>Request Partial Block</td>\n",
       "      <td>Requested Partial Block Not Possible</td>\n",
       "    </tr>\n",
       "    <tr>\n",
       "      <th>5872708</th>\n",
       "      <td>1</td>\n",
       "      <td>2009-11-03</td>\n",
       "      <td>2009-11-03</td>\n",
       "      <td>9</td>\n",
       "      <td>18</td>\n",
       "      <td>Request Partial Block</td>\n",
       "      <td>Requested Partial Block Not Possible</td>\n",
       "    </tr>\n",
       "    <tr>\n",
       "      <th>5746942</th>\n",
       "      <td>2</td>\n",
       "      <td>2009-10-18</td>\n",
       "      <td>2009-11-03</td>\n",
       "      <td>9</td>\n",
       "      <td>18</td>\n",
       "      <td>Request Partial Block</td>\n",
       "      <td>Requested Partial Block Not Possible</td>\n",
       "    </tr>\n",
       "  </tbody>\n",
       "</table>\n",
       "</div>"
      ],
      "text/plain": [
       "         events first_date  last_date  event_type_first  inter_type_first  \\\n",
       "user_id                                                                     \n",
       "2169867       1 2009-11-19 2009-11-19                 9                18   \n",
       "7035862       1 2009-11-15 2009-11-15                 9                18   \n",
       "5911218       1 2009-11-08 2009-11-08                 9                18   \n",
       "5872708       1 2009-11-03 2009-11-03                 9                18   \n",
       "5746942       2 2009-10-18 2009-11-03                 9                18   \n",
       "\n",
       "                       ev_desc                            inter_desc  \n",
       "user_id                                                               \n",
       "2169867  Request Partial Block  Requested Partial Block Not Possible  \n",
       "7035862  Request Partial Block  Requested Partial Block Not Possible  \n",
       "5911218  Request Partial Block  Requested Partial Block Not Possible  \n",
       "5872708  Request Partial Block  Requested Partial Block Not Possible  \n",
       "5746942  Request Partial Block  Requested Partial Block Not Possible  "
      ]
     },
     "execution_count": 107,
     "metadata": {},
     "output_type": "execute_result"
    }
   ],
   "source": [
    "rg_info.head()"
   ]
  },
  {
   "cell_type": "code",
   "execution_count": null,
   "metadata": {},
   "outputs": [],
   "source": []
  }
 ],
 "metadata": {
  "kernelspec": {
   "display_name": "Python 3",
   "language": "python",
   "name": "python3"
  },
  "language_info": {
   "codemirror_mode": {
    "name": "ipython",
    "version": 3
   },
   "file_extension": ".py",
   "mimetype": "text/x-python",
   "name": "python",
   "nbconvert_exporter": "python",
   "pygments_lexer": "ipython3",
   "version": "3.7.6"
  }
 },
 "nbformat": 4,
 "nbformat_minor": 4
}
